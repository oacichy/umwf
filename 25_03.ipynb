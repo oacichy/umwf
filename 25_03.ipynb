{
  "nbformat": 4,
  "nbformat_minor": 0,
  "metadata": {
    "colab": {
      "provenance": [],
      "authorship_tag": "ABX9TyP8CRP9mNfsBpzs3Hy34Zm+",
      "include_colab_link": true
    },
    "kernelspec": {
      "name": "python3",
      "display_name": "Python 3"
    },
    "language_info": {
      "name": "python"
    }
  },
  "cells": [
    {
      "cell_type": "markdown",
      "metadata": {
        "id": "view-in-github",
        "colab_type": "text"
      },
      "source": [
        "<a href=\"https://colab.research.google.com/github/oacichy/umwf/blob/main/25_03.ipynb\" target=\"_parent\"><img src=\"https://colab.research.google.com/assets/colab-badge.svg\" alt=\"Open In Colab\"/></a>"
      ]
    },
    {
      "cell_type": "code",
      "source": [
        "import pandas as pd\n",
        "import numpy as np\n",
        "from mlxtend.frequent_patterns import apriori, association_rules\n",
        "from mlxtend.preprocessing import TransactionEncoder"
      ],
      "metadata": {
        "id": "4eTHQajRRDKH"
      },
      "execution_count": 4,
      "outputs": []
    },
    {
      "cell_type": "code",
      "execution_count": 3,
      "metadata": {
        "id": "bja_JlynQtQI"
      },
      "outputs": [],
      "source": [
        "data = pd.read_csv('GroceryStoreDataSet.csv', header=None)"
      ]
    },
    {
      "cell_type": "code",
      "source": [
        "transactions = []\n",
        "items = data[0].values\n",
        "print(items)"
      ],
      "metadata": {
        "colab": {
          "base_uri": "https://localhost:8080/"
        },
        "id": "Yq7VsG7hRHMd",
        "outputId": "594f9ecb-d752-4b09-b016-94af249861a6"
      },
      "execution_count": 5,
      "outputs": [
        {
          "output_type": "stream",
          "name": "stdout",
          "text": [
            "['MILK,BREAD,BISCUIT' 'BREAD,MILK,BISCUIT,CORNFLAKES'\n",
            " 'BREAD,TEA,BOURNVITA' 'JAM,MAGGI,BREAD,MILK' 'MAGGI,TEA,BISCUIT'\n",
            " 'BREAD,TEA,BOURNVITA' 'MAGGI,TEA,CORNFLAKES' 'MAGGI,BREAD,TEA,BISCUIT'\n",
            " 'JAM,MAGGI,BREAD,TEA' 'BREAD,MILK' 'COFFEE,COCK,BISCUIT,CORNFLAKES'\n",
            " 'COFFEE,COCK,BISCUIT,CORNFLAKES' 'COFFEE,SUGER,BOURNVITA'\n",
            " 'BREAD,COFFEE,COCK' 'BREAD,SUGER,BISCUIT' 'COFFEE,SUGER,CORNFLAKES'\n",
            " 'BREAD,SUGER,BOURNVITA' 'BREAD,COFFEE,SUGER' 'BREAD,COFFEE,SUGER'\n",
            " 'TEA,MILK,COFFEE,CORNFLAKES']\n"
          ]
        },
        {
          "output_type": "stream",
          "name": "stderr",
          "text": [
            "/usr/local/lib/python3.10/dist-packages/ipykernel/ipkernel.py:283: DeprecationWarning: `should_run_async` will not call `transform_cell` automatically in the future. Please pass the result to `transformed_cell` argument and any exception that happen during thetransform in `preprocessing_exc_tuple` in IPython 7.17 and above.\n",
            "  and should_run_async(code)\n"
          ]
        }
      ]
    },
    {
      "cell_type": "code",
      "source": [
        "for i in range (0, len(items)):\n",
        "  transactions.append(items[i].split(\",\"))\n",
        "\n",
        "te = TransactionEncoder()\n",
        "te_data = te.fit_transform(transactions)\n",
        "print(te.columns_)\n",
        "print(te_data)"
      ],
      "metadata": {
        "colab": {
          "base_uri": "https://localhost:8080/"
        },
        "id": "VsbLOPlWRcLp",
        "outputId": "fa24546b-e7ec-45b7-f375-465a8c5715b3"
      },
      "execution_count": 9,
      "outputs": [
        {
          "output_type": "stream",
          "name": "stdout",
          "text": [
            "['BISCUIT', 'BOURNVITA', 'BREAD', 'COCK', 'COFFEE', 'CORNFLAKES', 'JAM', 'MAGGI', 'MILK', 'SUGER', 'TEA']\n",
            "[[ True False  True False False False False False  True False False]\n",
            " [ True False  True False False  True False False  True False False]\n",
            " [False  True  True False False False False False False False  True]\n",
            " [False False  True False False False  True  True  True False False]\n",
            " [ True False False False False False False  True False False  True]\n",
            " [False  True  True False False False False False False False  True]\n",
            " [False False False False False  True False  True False False  True]\n",
            " [ True False  True False False False False  True False False  True]\n",
            " [False False  True False False False  True  True False False  True]\n",
            " [False False  True False False False False False  True False False]\n",
            " [ True False False  True  True  True False False False False False]\n",
            " [ True False False  True  True  True False False False False False]\n",
            " [False  True False False  True False False False False  True False]\n",
            " [False False  True  True  True False False False False False False]\n",
            " [ True False  True False False False False False False  True False]\n",
            " [False False False False  True  True False False False  True False]\n",
            " [False  True  True False False False False False False  True False]\n",
            " [False False  True False  True False False False False  True False]\n",
            " [False False  True False  True False False False False  True False]\n",
            " [False False False False  True  True False False  True False  True]\n",
            " [ True False  True False False False False False  True False False]\n",
            " [ True False  True False False  True False False  True False False]\n",
            " [False  True  True False False False False False False False  True]\n",
            " [False False  True False False False  True  True  True False False]\n",
            " [ True False False False False False False  True False False  True]\n",
            " [False  True  True False False False False False False False  True]\n",
            " [False False False False False  True False  True False False  True]\n",
            " [ True False  True False False False False  True False False  True]\n",
            " [False False  True False False False  True  True False False  True]\n",
            " [False False  True False False False False False  True False False]\n",
            " [ True False False  True  True  True False False False False False]\n",
            " [ True False False  True  True  True False False False False False]\n",
            " [False  True False False  True False False False False  True False]\n",
            " [False False  True  True  True False False False False False False]\n",
            " [ True False  True False False False False False False  True False]\n",
            " [False False False False  True  True False False False  True False]\n",
            " [False  True  True False False False False False False  True False]\n",
            " [False False  True False  True False False False False  True False]\n",
            " [False False  True False  True False False False False  True False]\n",
            " [False False False False  True  True False False  True False  True]\n",
            " [ True False  True False False False False False  True False False]\n",
            " [ True False  True False False  True False False  True False False]\n",
            " [False  True  True False False False False False False False  True]\n",
            " [False False  True False False False  True  True  True False False]\n",
            " [ True False False False False False False  True False False  True]\n",
            " [False  True  True False False False False False False False  True]\n",
            " [False False False False False  True False  True False False  True]\n",
            " [ True False  True False False False False  True False False  True]\n",
            " [False False  True False False False  True  True False False  True]\n",
            " [False False  True False False False False False  True False False]\n",
            " [ True False False  True  True  True False False False False False]\n",
            " [ True False False  True  True  True False False False False False]\n",
            " [False  True False False  True False False False False  True False]\n",
            " [False False  True  True  True False False False False False False]\n",
            " [ True False  True False False False False False False  True False]\n",
            " [False False False False  True  True False False False  True False]\n",
            " [False  True  True False False False False False False  True False]\n",
            " [False False  True False  True False False False False  True False]\n",
            " [False False  True False  True False False False False  True False]\n",
            " [False False False False  True  True False False  True False  True]\n",
            " [ True False  True False False False False False  True False False]\n",
            " [ True False  True False False  True False False  True False False]\n",
            " [False  True  True False False False False False False False  True]\n",
            " [False False  True False False False  True  True  True False False]\n",
            " [ True False False False False False False  True False False  True]\n",
            " [False  True  True False False False False False False False  True]\n",
            " [False False False False False  True False  True False False  True]\n",
            " [ True False  True False False False False  True False False  True]\n",
            " [False False  True False False False  True  True False False  True]\n",
            " [False False  True False False False False False  True False False]\n",
            " [ True False False  True  True  True False False False False False]\n",
            " [ True False False  True  True  True False False False False False]\n",
            " [False  True False False  True False False False False  True False]\n",
            " [False False  True  True  True False False False False False False]\n",
            " [ True False  True False False False False False False  True False]\n",
            " [False False False False  True  True False False False  True False]\n",
            " [False  True  True False False False False False False  True False]\n",
            " [False False  True False  True False False False False  True False]\n",
            " [False False  True False  True False False False False  True False]\n",
            " [False False False False  True  True False False  True False  True]]\n"
          ]
        },
        {
          "output_type": "stream",
          "name": "stderr",
          "text": [
            "/usr/local/lib/python3.10/dist-packages/ipykernel/ipkernel.py:283: DeprecationWarning: `should_run_async` will not call `transform_cell` automatically in the future. Please pass the result to `transformed_cell` argument and any exception that happen during thetransform in `preprocessing_exc_tuple` in IPython 7.17 and above.\n",
            "  and should_run_async(code)\n"
          ]
        }
      ]
    },
    {
      "cell_type": "code",
      "source": [
        "dataTE = pd.DataFrame(data = te_data, columns = te.columns_, dtype=int)\n",
        "print(dataTE)"
      ],
      "metadata": {
        "colab": {
          "base_uri": "https://localhost:8080/"
        },
        "id": "c2PvmwR3RoWa",
        "outputId": "6095a230-256a-4a42-c0f8-ecc39f90b101"
      },
      "execution_count": 10,
      "outputs": [
        {
          "output_type": "stream",
          "name": "stdout",
          "text": [
            "    BISCUIT  BOURNVITA  BREAD  COCK  COFFEE  CORNFLAKES  JAM  MAGGI  MILK  \\\n",
            "0         1          0      1     0       0           0    0      0     1   \n",
            "1         1          0      1     0       0           1    0      0     1   \n",
            "2         0          1      1     0       0           0    0      0     0   \n",
            "3         0          0      1     0       0           0    1      1     1   \n",
            "4         1          0      0     0       0           0    0      1     0   \n",
            "..      ...        ...    ...   ...     ...         ...  ...    ...   ...   \n",
            "75        0          0      0     0       1           1    0      0     0   \n",
            "76        0          1      1     0       0           0    0      0     0   \n",
            "77        0          0      1     0       1           0    0      0     0   \n",
            "78        0          0      1     0       1           0    0      0     0   \n",
            "79        0          0      0     0       1           1    0      0     1   \n",
            "\n",
            "    SUGER  TEA  \n",
            "0       0    0  \n",
            "1       0    0  \n",
            "2       0    1  \n",
            "3       0    0  \n",
            "4       0    1  \n",
            "..    ...  ...  \n",
            "75      1    0  \n",
            "76      1    0  \n",
            "77      1    0  \n",
            "78      1    0  \n",
            "79      0    1  \n",
            "\n",
            "[80 rows x 11 columns]\n"
          ]
        },
        {
          "output_type": "stream",
          "name": "stderr",
          "text": [
            "/usr/local/lib/python3.10/dist-packages/ipykernel/ipkernel.py:283: DeprecationWarning: `should_run_async` will not call `transform_cell` automatically in the future. Please pass the result to `transformed_cell` argument and any exception that happen during thetransform in `preprocessing_exc_tuple` in IPython 7.17 and above.\n",
            "  and should_run_async(code)\n"
          ]
        }
      ]
    },
    {
      "cell_type": "code",
      "source": [
        "support = apriori(dataTE, min_support=0.15, use_colnames=True).sort_values(by = 'support', ascending = False)\n",
        "print(support)"
      ],
      "metadata": {
        "colab": {
          "base_uri": "https://localhost:8080/"
        },
        "id": "J0fs5Q9rTPOh",
        "outputId": "18931766-c791-4e75-933a-14ba625f707c"
      },
      "execution_count": 11,
      "outputs": [
        {
          "output_type": "stream",
          "name": "stdout",
          "text": [
            "    support               itemsets\n",
            "2      0.65                (BREAD)\n",
            "4      0.40               (COFFEE)\n",
            "0      0.35              (BISCUIT)\n",
            "9      0.35                  (TEA)\n",
            "5      0.30           (CORNFLAKES)\n",
            "8      0.30                (SUGER)\n",
            "6      0.25                (MAGGI)\n",
            "7      0.25                 (MILK)\n",
            "15     0.20          (BREAD, MILK)\n",
            "20     0.20        (COFFEE, SUGER)\n",
            "19     0.20   (COFFEE, CORNFLAKES)\n",
            "17     0.20           (TEA, BREAD)\n",
            "16     0.20         (BREAD, SUGER)\n",
            "21     0.20           (TEA, MAGGI)\n",
            "1      0.20            (BOURNVITA)\n",
            "10     0.20       (BISCUIT, BREAD)\n",
            "14     0.15         (MAGGI, BREAD)\n",
            "13     0.15        (BREAD, COFFEE)\n",
            "12     0.15     (BREAD, BOURNVITA)\n",
            "18     0.15         (COFFEE, COCK)\n",
            "3      0.15                 (COCK)\n",
            "11     0.15  (BISCUIT, CORNFLAKES)\n"
          ]
        },
        {
          "output_type": "stream",
          "name": "stderr",
          "text": [
            "/usr/local/lib/python3.10/dist-packages/ipykernel/ipkernel.py:283: DeprecationWarning: `should_run_async` will not call `transform_cell` automatically in the future. Please pass the result to `transformed_cell` argument and any exception that happen during thetransform in `preprocessing_exc_tuple` in IPython 7.17 and above.\n",
            "  and should_run_async(code)\n",
            "/usr/local/lib/python3.10/dist-packages/mlxtend/frequent_patterns/fpcommon.py:110: DeprecationWarning: DataFrames with non-bool types result in worse computationalperformance and their support might be discontinued in the future.Please use a DataFrame with bool type\n",
            "  warnings.warn(\n"
          ]
        }
      ]
    },
    {
      "cell_type": "code",
      "source": [
        "conf = association_rules(support, metric = 'confidence', min_threshold = 0.15).sort_values(by = 'confidence', ascending = False)\n",
        "print(conf)"
      ],
      "metadata": {
        "colab": {
          "base_uri": "https://localhost:8080/"
        },
        "id": "UwhwCEl0TY_-",
        "outputId": "a3ee5361-0ed9-4c4e-bde2-554347d52c8d"
      },
      "execution_count": 14,
      "outputs": [
        {
          "output_type": "stream",
          "name": "stdout",
          "text": [
            "     antecedents   consequents  antecedent support  consequent support  \\\n",
            "21        (COCK)      (COFFEE)                0.15                0.40   \n",
            "11       (MAGGI)         (TEA)                0.25                0.35   \n",
            "1         (MILK)       (BREAD)                0.25                0.65   \n",
            "19   (BOURNVITA)       (BREAD)                0.20                0.65   \n",
            "3        (SUGER)      (COFFEE)                0.30                0.40   \n",
            "5   (CORNFLAKES)      (COFFEE)                0.30                0.40   \n",
            "9        (SUGER)       (BREAD)                0.30                0.65   \n",
            "14       (MAGGI)       (BREAD)                0.25                0.65   \n",
            "12     (BISCUIT)       (BREAD)                0.35                0.65   \n",
            "6          (TEA)       (BREAD)                0.35                0.65   \n",
            "10         (TEA)       (MAGGI)                0.35                0.25   \n",
            "23  (CORNFLAKES)     (BISCUIT)                0.30                0.35   \n",
            "4       (COFFEE)  (CORNFLAKES)                0.40                0.30   \n",
            "2       (COFFEE)       (SUGER)                0.40                0.30   \n",
            "22     (BISCUIT)  (CORNFLAKES)                0.35                0.30   \n",
            "17      (COFFEE)       (BREAD)                0.40                0.65   \n",
            "20      (COFFEE)        (COCK)                0.40                0.15   \n",
            "8        (BREAD)       (SUGER)                0.65                0.30   \n",
            "13       (BREAD)     (BISCUIT)                0.65                0.35   \n",
            "7        (BREAD)         (TEA)                0.65                0.35   \n",
            "0        (BREAD)        (MILK)                0.65                0.25   \n",
            "15       (BREAD)       (MAGGI)                0.65                0.25   \n",
            "16       (BREAD)      (COFFEE)                0.65                0.40   \n",
            "18       (BREAD)   (BOURNVITA)                0.65                0.20   \n",
            "\n",
            "    support  confidence      lift  leverage  conviction  zhangs_metric  \n",
            "21     0.15    1.000000  2.500000    0.0900         inf       0.705882  \n",
            "11     0.20    0.800000  2.285714    0.1125    3.250000       0.750000  \n",
            "1      0.20    0.800000  1.230769    0.0375    1.750000       0.250000  \n",
            "19     0.15    0.750000  1.153846    0.0200    1.400000       0.166667  \n",
            "3      0.20    0.666667  1.666667    0.0800    1.800000       0.571429  \n",
            "5      0.20    0.666667  1.666667    0.0800    1.800000       0.571429  \n",
            "9      0.20    0.666667  1.025641    0.0050    1.050000       0.035714  \n",
            "14     0.15    0.600000  0.923077   -0.0125    0.875000      -0.100000  \n",
            "12     0.20    0.571429  0.879121   -0.0275    0.816667      -0.174603  \n",
            "6      0.20    0.571429  0.879121   -0.0275    0.816667      -0.174603  \n",
            "10     0.20    0.571429  2.285714    0.1125    1.750000       0.865385  \n",
            "23     0.15    0.500000  1.428571    0.0450    1.300000       0.428571  \n",
            "4      0.20    0.500000  1.666667    0.0800    1.400000       0.666667  \n",
            "2      0.20    0.500000  1.666667    0.0800    1.400000       0.666667  \n",
            "22     0.15    0.428571  1.428571    0.0450    1.225000       0.461538  \n",
            "17     0.15    0.375000  0.576923   -0.1100    0.560000      -0.550000  \n",
            "20     0.15    0.375000  2.500000    0.0900    1.360000       1.000000  \n",
            "8      0.20    0.307692  1.025641    0.0050    1.011111       0.071429  \n",
            "13     0.20    0.307692  0.879121   -0.0275    0.938889      -0.282051  \n",
            "7      0.20    0.307692  0.879121   -0.0275    0.938889      -0.282051  \n",
            "0      0.20    0.307692  1.230769    0.0375    1.083333       0.535714  \n",
            "15     0.15    0.230769  0.923077   -0.0125    0.975000      -0.192308  \n",
            "16     0.15    0.230769  0.576923   -0.1100    0.780000      -0.676923  \n",
            "18     0.15    0.230769  1.153846    0.0200    1.040000       0.380952  \n"
          ]
        },
        {
          "output_type": "stream",
          "name": "stderr",
          "text": [
            "/usr/local/lib/python3.10/dist-packages/ipykernel/ipkernel.py:283: DeprecationWarning: `should_run_async` will not call `transform_cell` automatically in the future. Please pass the result to `transformed_cell` argument and any exception that happen during thetransform in `preprocessing_exc_tuple` in IPython 7.17 and above.\n",
            "  and should_run_async(code)\n"
          ]
        }
      ]
    },
    {
      "cell_type": "code",
      "source": [],
      "metadata": {
        "id": "vsYZM-8kYqfa"
      },
      "execution_count": null,
      "outputs": []
    }
  ]
}